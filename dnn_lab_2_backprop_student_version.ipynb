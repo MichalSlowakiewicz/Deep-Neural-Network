{
  "cells": [
    {
      "cell_type": "markdown",
      "metadata": {
        "id": "view-in-github",
        "colab_type": "text"
      },
      "source": [
        "<a href=\"https://colab.research.google.com/github/MichalSlowakiewicz/Deep-Neural-Network/blob/master/dnn_lab_2_backprop_student_version.ipynb\" target=\"_parent\"><img src=\"https://colab.research.google.com/assets/colab-badge.svg\" alt=\"Open In Colab\"/></a>"
      ]
    },
    {
      "cell_type": "markdown",
      "metadata": {
        "id": "DxaMTckGDGgc"
      },
      "source": [
        "<center><img src='https://drive.google.com/uc?id=1_utx_ZGclmCwNttSe40kYA6VHzNocdET' height=\"60\"></center>\n",
        "\n",
        "AI TECH - Akademia Innowacyjnych Zastosowań Technologii Cyfrowych. Program Operacyjny Polska Cyfrowa na lata 2014-2020\n",
        "<hr>\n",
        "\n",
        "<center><img src='https://drive.google.com/uc?id=1BXZ0u3562N_MqCLcekI-Ens77Kk4LpPm'></center>\n",
        "\n",
        "<center>\n",
        "Projekt współfinansowany ze środków Unii Europejskiej w ramach Europejskiego Funduszu Rozwoju Regionalnego\n",
        "Program Operacyjny Polska Cyfrowa na lata 2014-2020,\n",
        "Oś Priorytetowa nr 3 \"Cyfrowe kompetencje społeczeństwa\" Działanie  nr 3.2 \"Innowacyjne rozwiązania na rzecz aktywizacji cyfrowej\"\n",
        "Tytuł projektu:  „Akademia Innowacyjnych Zastosowań Technologii Cyfrowych (AI Tech)”\n",
        "    </center>"
      ]
    },
    {
      "cell_type": "markdown",
      "metadata": {
        "id": "LFrkgOd8e42J"
      },
      "source": [
        "# Laboratory Scenario 2 - Backpropagation and Gradient Checkpointing\n",
        "\n",
        "In this lab scenario, you are given an implementation of a simple neural network, and your goal is to implement the backpropagation procedure for this network.  \n",
        "\n",
        "To be more precise, the network inputs a tensor $x$ of shape `(MINI_BATCH_SIZE, 28*28)`, where each element of the batch represents a flattened grayscale image of shape `(28, 28)`.  \n",
        "In exercise 1, you can assume that images in the minibatch are fed to the network one by one (as tensors of shape `(1, 28*28)` - single image and `(1, 10)` - image class).  \n",
        "In exercise 2 you are asked to make the backpropagation work without this assumption, on whole mini-batches.  \n",
        "In exercise 3, you will implement a technique called *gradient checkpointing*, that allows you to reduce the amount of memory used to store activations for backpropagation."
      ]
    },
    {
      "cell_type": "code",
      "execution_count": 3,
      "metadata": {
        "id": "6y4l5BmxTNNU"
      },
      "outputs": [],
      "source": [
        "from pathlib import Path\n",
        "from typing import Sequence, Iterator, cast\n",
        "from typing_extensions import override\n",
        "\n",
        "import numpy as np\n",
        "import PIL.Image\n",
        "from numpy.typing import NDArray\n",
        "from tqdm.auto import tqdm\n",
        "\n",
        "FloatNDArray = NDArray[np.float64]"
      ]
    },
    {
      "cell_type": "markdown",
      "metadata": {
        "id": "u4UpigUXf4Xt"
      },
      "source": [
        "## Loading the MNIST dataset"
      ]
    },
    {
      "cell_type": "code",
      "execution_count": 4,
      "metadata": {
        "id": "iHhqeGLsHcYl",
        "outputId": "00efc977-d14f-46de-8761-6a2e2e1e8ba9",
        "colab": {
          "base_uri": "https://localhost:8080/"
        }
      },
      "outputs": [
        {
          "output_type": "stream",
          "name": "stdout",
          "text": [
            "2025-10-15 09:19:22 URL:https://s3.amazonaws.com/img-datasets/mnist.npz [11490434/11490434] -> \"mnist.npz\" [1]\n"
          ]
        }
      ],
      "source": [
        "!wget --no-verbose -O mnist.npz https://s3.amazonaws.com/img-datasets/mnist.npz"
      ]
    },
    {
      "cell_type": "code",
      "execution_count": 5,
      "metadata": {
        "id": "uutaqUkuVAuF"
      },
      "outputs": [],
      "source": [
        "def load_mnist(\n",
        "    path: Path = Path('mnist.npz')\n",
        ") -> tuple[FloatNDArray, FloatNDArray, FloatNDArray, FloatNDArray]:\n",
        "    '''\n",
        "    Load the MNIST dataset (grayscale 28 x 28 images of hand-written digits).\n",
        "\n",
        "    Returns tuple of:\n",
        "    - x_train: shape (N_train, H * W), grayscale values 0..1.\n",
        "    - y_train: shape (N_train, 10), one-hot-encoded label, dtype float64.\n",
        "    - x_test: shape (N_test, H * W), grayscale values 0..1.\n",
        "    - y_train: shape (N_test, 10), one-hot-encoded label, dtype float64.\n",
        "\n",
        "    More: https://en.wikipedia.org/wiki/MNIST_database\n",
        "    '''\n",
        "    with np.load(path) as f:\n",
        "        x_train, _y_train = f['x_train'], f['y_train']\n",
        "        x_test, _y_test = f['x_test'], f['y_test']\n",
        "\n",
        "    H = W = 28\n",
        "    N_train = len(x_train)\n",
        "    N_test = len(x_test)\n",
        "    assert x_train.shape == (N_train, H, W) and _y_train.shape == (N_train,)\n",
        "    assert x_test.shape == (N_test, H, W) and _y_test.shape == (N_test,)\n",
        "\n",
        "    x_train = x_train.reshape(N_train, H * W) / 255.0\n",
        "    x_test = x_test.reshape(N_test, H * W) / 255.0\n",
        "\n",
        "    y_train = np.zeros((N_train, 10), dtype=np.float64)\n",
        "    y_train[np.arange(N_train), _y_train] = 1\n",
        "\n",
        "    y_test = np.zeros((N_test, 10))\n",
        "    y_test[np.arange(N_test), _y_test] = 1\n",
        "\n",
        "    return x_train, y_train, x_test, y_test\n",
        "\n",
        "\n",
        "x_train, y_train, x_test, y_test = load_mnist()"
      ]
    },
    {
      "cell_type": "code",
      "execution_count": null,
      "metadata": {
        "id": "-icrjrxmizjf"
      },
      "outputs": [],
      "source": [
        "def to_pillow_image(x: FloatNDArray, scale: int = 10) -> PIL.Image.Image:\n",
        "    '''Convert example of shape (28 * 28,) and values 0..1 to Pillow image.'''\n",
        "    H = W = 28\n",
        "    assert x.shape == (H * W,) and 0 <= x.min() <= x.max() <= 1\n",
        "    x_int = (x * 255).astype(np.uint8).reshape(H, W)\n",
        "    img = PIL.Image.fromarray(x_int, mode='L')\n",
        "    return img.resize((H * scale, W * scale), PIL.Image.Resampling.NEAREST)\n",
        "\n",
        "\n",
        "display(to_pillow_image(x_train[0]))\n",
        "print(y_train[0])"
      ]
    },
    {
      "cell_type": "markdown",
      "metadata": {
        "id": "T5PPE1ldTNNx"
      },
      "source": [
        "## Exercise 1\n",
        "\n",
        "In this exercise, your task is to fill in the gaps in this code by implementing the backpropagation algorithm.\n",
        "Once done, you can run the network on the MNIST example and see how it performs.  \n",
        "Feel free to play with the parameters. Your model should achieve 90%+ accuracy after a few epochs.  \n",
        "\n",
        "Before you start you should note a few things:\n",
        "+ `backprop` - is the function that you need to implement\n",
        "+ `learning_step` - calls `backprop` to get the gradients for network parameters\n",
        "+ The derivative of the loss is already computed by `cost_derivative`.\n",
        "+ Your goal is to compute $\\frac{d L\\left(\\text{model}(x), y\\right)}{d p}$ for each parameter $p$ of the network\n"
      ]
    },
    {
      "cell_type": "code",
      "execution_count": 6,
      "metadata": {
        "id": "rvbfIFaF5_MW"
      },
      "outputs": [],
      "source": [
        "def sigmoid(z: FloatNDArray) -> FloatNDArray:\n",
        "    return 1.0 / (1.0 + np.exp(-z))\n",
        "\n",
        "\n",
        "def sigmoid_prime(z: FloatNDArray) -> FloatNDArray:\n",
        "    '''Derivative of the sigmoid.'''\n",
        "    return sigmoid(z) * (1 - sigmoid(z))"
      ]
    },
    {
      "cell_type": "code",
      "execution_count": 7,
      "metadata": {
        "id": "OsCgwvfHTNN0"
      },
      "outputs": [],
      "source": [
        "class Network:\n",
        "    '''\n",
        "    Multi-Layer Perceptron.\n",
        "\n",
        "    A simple neural network with fully-connected layers and sigmoid activations.\n",
        "    '''\n",
        "\n",
        "    def __init__(self, sizes: Sequence[int] = (784, 30, 10)):\n",
        "        '''\n",
        "        Args:\n",
        "        - sizes: sequence of layer widths [N^0, ... , N^last]\n",
        "          These are lengths of activation vectors, where:\n",
        "          - N^0 is input size: 784.\n",
        "          - N^last is the number of classes into which we can classify each input: 10.\n",
        "        '''\n",
        "        self.sizes = list(sizes)\n",
        "\n",
        "        # We initialize weights and biases with random normal distribution.\n",
        "\n",
        "        # List of len(sizes) - 1 vectors of shape (N^1), (N^2), ..., (N^last).\n",
        "        self.biases = [np.random.randn(n) for n in sizes[1:]]\n",
        "\n",
        "        # List of len(sizes) - 1 matrices of shape (N^i, N^{i-1}).\n",
        "        # Weights are indexed by target node first.\n",
        "        self.weights = [\n",
        "            np.random.randn(n_out, n_in) / np.sqrt(n_in)\n",
        "            for n_in, n_out in zip(sizes[:-1], sizes[1:], strict=True)\n",
        "        ]\n",
        "\n",
        "    def feedforward(self, x: FloatNDArray) -> FloatNDArray:\n",
        "        '''\n",
        "        Run the network on a single case of shape (N^0,).\n",
        "\n",
        "        Returns last layer activations, shape (N^last,), values 0..1.\n",
        "        '''\n",
        "        g = x\n",
        "        for w, b in zip(self.weights, self.biases, strict=True):\n",
        "            # TODO\n",
        "            # f = # pre-activations\n",
        "            # g = # activations\n",
        "            g = x\n",
        "            f =  w @ g + b\n",
        "            g = sigmoid(f)\n",
        "            pass\n",
        "        return g\n",
        "\n",
        "    def learning_step(\n",
        "        self, x_mini_batch: FloatNDArray, y_mini_batch: FloatNDArray, learning_rate: float\n",
        "    ) -> None:\n",
        "        '''\n",
        "        Update network parameters with a single mini-batch step of backpropagation and gradient descent.\n",
        "\n",
        "        Args:\n",
        "        - x_mini_batch: shape (B, N^0) where B is the mini-batch size.\n",
        "        - y_mini_batch: shape (B, N^last).\n",
        "        - learning_rate.\n",
        "        '''\n",
        "        # Accumulate gradients by running backprop one dataitem at a time (without vectorization).\n",
        "        grads_w = [np.zeros(w.shape) for w in self.weights]\n",
        "        grads_b = [np.zeros(b.shape) for b in self.biases]\n",
        "        for x, y in zip(x_mini_batch, y_mini_batch):\n",
        "            item_grads_w, item_grads_b = self.backprop(x, y)\n",
        "            for i in range(len(grads_w)):\n",
        "                grads_w[i] = grads_w[i] + item_grads_w[i]\n",
        "            for i in range(len(grads_b)):\n",
        "                grads_b[i] = grads_b[i] + item_grads_b[i]\n",
        "\n",
        "        # Gradient descent step.\n",
        "        self.weights = [\n",
        "            w - grad_w * (learning_rate / len(x_mini_batch))\n",
        "            for w, grad_w in zip(self.weights, grads_w, strict=True)\n",
        "        ]\n",
        "        self.biases = [\n",
        "            b - grad_b * (learning_rate / len(x_mini_batch))\n",
        "            for b, grad_b in zip(self.biases, grads_b, strict=True)\n",
        "        ]\n",
        "\n",
        "    def backprop(\n",
        "        self, x: FloatNDArray, y: FloatNDArray\n",
        "    ) -> tuple[list[FloatNDArray], list[FloatNDArray]]:\n",
        "        '''\n",
        "        Backpropagation for a single input (not vectorized).\n",
        "\n",
        "        Args:\n",
        "        - x: input features, shape (N^0).\n",
        "        - y: target label (one-hot encoded), shape (N^last).\n",
        "\n",
        "        Returns (grads_w, grads_b), where:\n",
        "        - grads_w is a list of gradients over weights (shape (N^i, N^{i-1})), for each layer.\n",
        "        - grads_b is a list of gradients over biases (shape (N^i)), for each layer.\n",
        "        '''\n",
        "\n",
        "        # Go forward, remembering all activations.\n",
        "        # Pre-activations function, layer by layer, shapes (N^1), ..., (N^last).\n",
        "        fs: list[FloatNDArray] = []\n",
        "        # Activations (including inputs to the first layer), shapes (N^0), (N^1), ..., (N^last).\n",
        "        gs: list[FloatNDArray] = [x]\n",
        "\n",
        "        # TODO forward pass.\n",
        "        for w, b in zip(self.weights, self.biases, strict=True):\n",
        "            f = w @ gs[-1] + b\n",
        "            fs.append(f)\n",
        "            g = sigmoid(f)\n",
        "            gs.append(g)\n",
        "\n",
        "        assert [f.shape for f in fs] == [(n,) for n in self.sizes[1:]], f'Shape mismatch: {[f.shape for f in fs]} vs {self.sizes[1:]}'\n",
        "        assert [g.shape for g in gs] == [(n,) for n in self.sizes], f'Shape mismatch: {[g.shape for g in gs]} vs {self.sizes}'\n",
        "\n",
        "        # Now go backward from the final cost applying backpropagation.\n",
        "        grad_g = self.cost_derivative(gs[-1], y)  # shape initially (N^last), then layer by layer.\n",
        "\n",
        "        # TODO backward pass. May be useful:\n",
        "        # - reversed(list(...)) can be used to iterate in reverse.\n",
        "        # - list.reverse() reverses a list in-place.\n",
        "        # - np.outer() computes an outer product (a_{i,j} = b_i c_j) very fast.\n",
        "\n",
        "        grad_f_list = []\n",
        "        for w, g in reversed(list(zip(self.weights, gs[1:], strict=True))):\n",
        "            grad_f = grad_g * g * (1 - g)\n",
        "            grad_f_list.append(grad_f)\n",
        "            grad_g = w.T @ grad_f\n",
        "\n",
        "        grad_f_list.reverse()\n",
        "\n",
        "\n",
        "        grads_w = [np.outer(grad_f, g) for grad_f, g in zip(grad_f_list, gs[:-1], strict=True)]\n",
        "        grads_b = grad_f_list\n",
        "\n",
        "\n",
        "        # Now grads_w should have shapes (N^1, N^0), ..., (N^last, N^{last-1}).\n",
        "        # Now grads_b should have shapes (N^1), ..., (N^last).\n",
        "        for grad_b, b in zip(grads_b, self.biases, strict=True):\n",
        "            assert grad_b.shape == b.shape, f'Shape mismatch: {grad_b.shape=} but {b.shape=}'\n",
        "        for grad_w, w in zip(grads_w, self.weights, strict=True):\n",
        "            assert grad_w.shape == w.shape, f'Shape mismatch: {grad_w.shape=} but {w.shape=}'\n",
        "\n",
        "        return grads_w, grads_b\n",
        "\n",
        "    def cost_derivative(self, g: FloatNDArray, y: FloatNDArray) -> FloatNDArray:\n",
        "        '''\n",
        "        Gradient of loss (MSE) over output activations, for a single sample.\n",
        "\n",
        "        Args:\n",
        "        - g: output activations, shape (N^last).\n",
        "        - y: target values (one-hot encoded labels), shape (N^last).\n",
        "\n",
        "        Returns gradients, shape (N^last).\n",
        "        '''\n",
        "        assert g.shape == y.shape, f'Shape mismatch: {g.shape=} but {y.shape=}'\n",
        "        N_last, = g.shape\n",
        "        return (2 / N_last) * (g - y.astype(np.float64))\n",
        "\n",
        "    def evaluate(\n",
        "        self, x_test_data: FloatNDArray, y_test_data: FloatNDArray\n",
        "    ) -> np.float64:\n",
        "        '''\n",
        "        Compute accuracy: the ratio of correct answers for test_data.\n",
        "\n",
        "        Args (here B is the number of test dataitems):\n",
        "        - x_test_data: shape (B, N^0).\n",
        "        - y_test_data: shape (B, N^last).\n",
        "        '''\n",
        "        test_results: list[bool] = []\n",
        "        for x, y in zip(x_test_data, y_test_data):\n",
        "            output_label: np.int64 = np.argmax(self.feedforward(x))\n",
        "            target_label: np.int64 = np.argmax(y)\n",
        "            test_results.append(output_label == target_label)\n",
        "\n",
        "        return np.mean(test_results)\n",
        "\n",
        "    def SGD(\n",
        "        self,\n",
        "        training_data: tuple[FloatNDArray, FloatNDArray],\n",
        "        test_data: tuple[FloatNDArray, FloatNDArray] | None = None,\n",
        "        epochs: int = 2,\n",
        "        mini_batch_size: int = 100,\n",
        "        learning_rate: float = 1.0,\n",
        "    ) -> None:\n",
        "        x_train, y_train = training_data\n",
        "        for epoch in tqdm(range(epochs)):\n",
        "            for i in range(x_train.shape[0] // mini_batch_size):\n",
        "                i_begin = i * mini_batch_size\n",
        "                i_end = (i + 1) * mini_batch_size\n",
        "                self.learning_step(x_train[i_begin:i_end], y_train[i_begin:i_end], learning_rate)\n",
        "            if test_data:\n",
        "                x_test, y_test = test_data\n",
        "                accuracy = self.evaluate(x_test, y_test)\n",
        "                tqdm.write(f'Epoch: {epoch}, Accuracy: {accuracy * 100:.2f} %')\n",
        "            else:\n",
        "                tqdm.write(f'Epoch: {epoch}')"
      ]
    },
    {
      "cell_type": "code",
      "source": [
        "import numpy as np\n",
        "from typing import Sequence\n",
        "from tqdm import tqdm\n",
        "\n",
        "def sigmoid(z: np.ndarray) -> np.ndarray:\n",
        "    return 1 / (1 + np.exp(-z))\n",
        "\n",
        "FloatNDArray = np.ndarray\n",
        "\n",
        "\n",
        "class Network:\n",
        "    '''\n",
        "    Multi-Layer Perceptron — simple fully connected NN with sigmoid activations.\n",
        "    '''\n",
        "\n",
        "    def __init__(self, sizes: Sequence[int] = (784, 30, 10)):\n",
        "        '''\n",
        "        Args:\n",
        "        - sizes: sequence of layer widths [N^0, ... , N^last]\n",
        "        '''\n",
        "        self.sizes = list(sizes)\n",
        "        self.biases = [np.random.randn(n) for n in sizes[1:]]\n",
        "        self.weights = [\n",
        "            np.random.randn(n_out, n_in) / np.sqrt(n_in)\n",
        "            for n_in, n_out in zip(sizes[:-1], sizes[1:], strict=True)\n",
        "        ]\n",
        "\n",
        "    def feedforward(self, x: FloatNDArray) -> FloatNDArray:\n",
        "        g = x\n",
        "        for w, b in zip(self.weights, self.biases, strict=True):\n",
        "            f = w @ g + b\n",
        "            g = sigmoid(f)\n",
        "        return g\n",
        "\n",
        "    def learning_step(\n",
        "        self, x_mini_batch: FloatNDArray, y_mini_batch: FloatNDArray, learning_rate: float\n",
        "    ) -> None:\n",
        "        grads_w = [np.zeros_like(w) for w in self.weights]\n",
        "        grads_b = [np.zeros_like(b) for b in self.biases]\n",
        "\n",
        "        for x, y in zip(x_mini_batch, y_mini_batch):\n",
        "            item_grads_w, item_grads_b = self.backprop(x, y)\n",
        "            for i in range(len(grads_w)):\n",
        "                grads_w[i] += item_grads_w[i]\n",
        "                grads_b[i] += item_grads_b[i]\n",
        "\n",
        "        n = len(x_mini_batch)\n",
        "        self.weights = [w - (learning_rate / n) * dw for w, dw in zip(self.weights, grads_w, strict=True)]\n",
        "        self.biases = [b - (learning_rate / n) * db for b, db in zip(self.biases, grads_b, strict=True)]\n",
        "\n",
        "\n",
        "    def backprop(self, x: FloatNDArray, y: FloatNDArray):\n",
        "        fs, gs = [], [x]\n",
        "\n",
        "        # --- Forward pass ---\n",
        "        for w, b in zip(self.weights, self.biases, strict=True):\n",
        "            f = w @ gs[-1] + b\n",
        "            fs.append(f)\n",
        "            g = sigmoid(f)\n",
        "            gs.append(g)\n",
        "\n",
        "        # --- Backward pass ---\n",
        "        grad_g = self.cost_derivative(gs[-1], y)\n",
        "        grad_f_list = []\n",
        "\n",
        "        for w, g in reversed(list(zip(self.weights, gs[1:], strict=True))):\n",
        "            grad_f = grad_g * g * (1 - g)  # sigmoid'(f)\n",
        "            grad_f_list.append(grad_f)\n",
        "            grad_g = w.T @ grad_f\n",
        "\n",
        "        grad_f_list.reverse()  # dopasowanie do kolejności warstw\n",
        "\n",
        "        grads_w = [np.outer(grad_f, g_prev) for grad_f, g_prev in zip(grad_f_list, gs[:-1], strict=True)]\n",
        "        grads_b = grad_f_list\n",
        "\n",
        "        # sanity check\n",
        "        for grad_b, b in zip(grads_b, self.biases, strict=True):\n",
        "            assert grad_b.shape == b.shape, f\"grad_b {grad_b.shape=} != b {b.shape=}\"\n",
        "        for grad_w, w in zip(grads_w, self.weights, strict=True):\n",
        "            assert grad_w.shape == w.shape, f\"grad_w {grad_w.shape=} != w {w.shape=}\"\n",
        "\n",
        "        return grads_w, grads_b\n",
        "\n",
        "    def cost_derivative(self, g: FloatNDArray, y: FloatNDArray) -> FloatNDArray:\n",
        "        assert g.shape == y.shape\n",
        "        N_last, = g.shape\n",
        "        return (2 / N_last) * (g - y.astype(np.float64))\n",
        "\n",
        "    def evaluate(self, x_test_data: FloatNDArray, y_test_data: FloatNDArray) -> np.float64:\n",
        "        results = [\n",
        "            np.argmax(self.feedforward(x)) == np.argmax(y)\n",
        "            for x, y in zip(x_test_data, y_test_data)\n",
        "        ]\n",
        "        return np.mean(results)\n",
        "\n",
        "    def SGD(\n",
        "        self,\n",
        "        training_data: tuple[FloatNDArray, FloatNDArray],\n",
        "        test_data: tuple[FloatNDArray, FloatNDArray] | None = None,\n",
        "        epochs: int = 2,\n",
        "        mini_batch_size: int = 100,\n",
        "        learning_rate: float = 1.0,\n",
        "    ) -> None:\n",
        "        x_train, y_train = training_data\n",
        "        for epoch in tqdm(range(epochs)):\n",
        "            for i in range(x_train.shape[0] // mini_batch_size):\n",
        "                i_begin = i * mini_batch_size\n",
        "                i_end = (i + 1) * mini_batch_size\n",
        "                self.learning_step(x_train[i_begin:i_end], y_train[i_begin:i_end], learning_rate)\n",
        "            if test_data:\n",
        "                x_test, y_test = test_data\n",
        "                acc = self.evaluate(x_test, y_test)\n",
        "                tqdm.write(f\"Epoch {epoch}: Accuracy {acc * 100:.2f}%\")\n",
        "            else:\n",
        "                tqdm.write(f\"Epoch {epoch}\")\n"
      ],
      "metadata": {
        "id": "eYJ1cLLpdCCJ"
      },
      "execution_count": 8,
      "outputs": []
    },
    {
      "cell_type": "code",
      "execution_count": null,
      "metadata": {
        "id": "8CBP5a-30tRF"
      },
      "outputs": [],
      "source": [
        "%%time\n",
        "# Smaller test on part of the dataset.\n",
        "# The unvectorized version should take about 2s per epoch\n",
        "# and achieve accuracy ~75% or more (for most executions).\n",
        "network = Network([784, 30, 10])\n",
        "network.SGD(\n",
        "    (x_train[:3000], y_train[:3000]),\n",
        "    test_data=(x_test[:3000], y_test[:3000]),\n",
        "    epochs=5,\n",
        "    mini_batch_size=100,\n",
        "    learning_rate=10.0\n",
        ")"
      ]
    },
    {
      "cell_type": "code",
      "execution_count": null,
      "metadata": {
        "id": "8JSUVlz11rHl"
      },
      "outputs": [],
      "source": [
        "%%time\n",
        "# Full test.\n",
        "# The unvectorized version should take about 20s per epoch\n",
        "# and achieve accuracy ~90% or more.\n",
        "network = Network([784, 30, 10])\n",
        "network.SGD(\n",
        "    (x_train, y_train),\n",
        "    test_data=(x_test, y_test),\n",
        "    epochs=10,\n",
        "    mini_batch_size=100,\n",
        "    learning_rate=5.0\n",
        ")"
      ]
    },
    {
      "cell_type": "markdown",
      "metadata": {
        "id": "d88s6sr-50HK"
      },
      "source": [
        "## Exercise 2\n",
        "\n",
        "Implement a \"fully vectorized\" version, i.e. one using matrix operations instead of going over examples one by one within a minibatch.\n"
      ]
    },
    {
      "cell_type": "code",
      "execution_count": 9,
      "metadata": {
        "id": "01WQss4d5xC-"
      },
      "outputs": [],
      "source": [
        "class NetworkVectorized:\n",
        "    '''Multi-Layer Perceptron with vectorized (batched) methods.'''\n",
        "\n",
        "    def __init__(self, sizes: Sequence[int] = (784, 30, 10)):\n",
        "        '''\n",
        "        Args:\n",
        "        - sizes: sequence of layer widths [N^0, ... , N^last]\n",
        "          These are lengths of activation vectors, where:\n",
        "          - N^0 is input size: 784.\n",
        "          - N^last is the number of classes into which we can classify each input: 10.\n",
        "        '''\n",
        "        self.sizes = list(sizes)\n",
        "\n",
        "        # We initialize weights and biases with random normal distribution.\n",
        "\n",
        "        # List of len(sizes) - 1 vectors of shape (N^1), (N^2), ..., (N^last)\n",
        "        self.biases = [np.random.randn(n) for n in sizes[1:]]\n",
        "\n",
        "        # List of len(sizes) - 1 matrices of shape (N^i, N^{i-1}).\n",
        "        # Weights are indexed by target node first.\n",
        "        self.weights = [\n",
        "            np.random.randn(n_out, n_in) / np.sqrt(n_in)\n",
        "            for n_in, n_out in zip(sizes[:-1], sizes[1:], strict=True)\n",
        "        ]\n",
        "\n",
        "    def feedforward(self, x: FloatNDArray) -> FloatNDArray:\n",
        "        '''\n",
        "        Run the network on a batch of cases of shape (B, N^0), values 0..1.\n",
        "\n",
        "        Returns last layer activations, shape (B, N^last), values 0..1.\n",
        "        '''\n",
        "        g = x\n",
        "        for w, b in zip(self.weights, self.biases, strict=True):\n",
        "            # TODO\n",
        "            f = g @ w.T + b\n",
        "            g = sigmoid(f)\n",
        "            pass\n",
        "        return g\n",
        "\n",
        "    def learning_step(self, x_mini_batch: FloatNDArray, y_mini_batch: FloatNDArray, learning_rate: float) -> None:\n",
        "        '''\n",
        "        Update network parameters with a single mini-batch step of backpropagation and gradient descent.\n",
        "\n",
        "        Args:\n",
        "        - x_mini_batch: shape (B, N^0) where B is mini_batch_size.\n",
        "        - y_mini_batch: shape (B, N^last).\n",
        "        - learning_rate.\n",
        "        '''\n",
        "        grads_w, grads_b = self.backprop_vectorized(x_mini_batch, y_mini_batch)\n",
        "\n",
        "        # Gradient descent step.\n",
        "        self.weights = [\n",
        "            w - learning_rate * grad_w\n",
        "            for w, grad_w in zip(self.weights, grads_w, strict=True)\n",
        "        ]\n",
        "        self.biases = [\n",
        "            b - learning_rate * grad_b\n",
        "            for b, grad_b in zip(self.biases, grads_b, strict=True)\n",
        "        ]\n",
        "\n",
        "    def backprop_vectorized(\n",
        "        self, x: FloatNDArray, y: FloatNDArray\n",
        "    ) -> tuple[list[FloatNDArray], list[FloatNDArray]]:\n",
        "        '''Backpropagation for a mini-batch (vectorized).\n",
        "\n",
        "        Args:\n",
        "        - x: input, shape (B, N^0)\n",
        "        - y: target label (one-hot encoded), shape (B, N^last)\n",
        "\n",
        "        Returns (grads_w, grads_b), where:\n",
        "        - grads_w: list of gradients over weights (shape (N^i, N^{i-1})), for each layer.\n",
        "        - grads_b: list of gradients over biases (shape (N^i)), for each layer.\n",
        "        '''\n",
        "        B, N0 = x.shape\n",
        "        assert N0 == self.sizes[0]\n",
        "\n",
        "        # Go forward, remembering all activations.\n",
        "\n",
        "        # Values after activation function (including inputs to the first layer),\n",
        "        # shapes (B, N^0), (B, N^1), ..., (B, N^last).\n",
        "        gs: list[FloatNDArray] = [x]\n",
        "\n",
        "        # TODO\n",
        "        for w, b in zip(self.weights, self.biases, strict=True):\n",
        "            f = gs[-1] @ w.T + b\n",
        "            g = sigmoid(f)\n",
        "            gs.append(g)\n",
        "\n",
        "        assert [g.shape for g in gs] == [(B, n) for n in self.sizes], \\\n",
        "            f'Shape mismatch: {[g.shape for g in gs]} vs {[(B, n) for n in self.sizes]}'\n",
        "\n",
        "        # Now go backward from the final cost applying backpropagation.\n",
        "        grad_g = self.cost_derivative(gs[-1], y)  # shape initially (B, N^last), then layer by layer.\n",
        "\n",
        "        # TODO\n",
        "        grads_w = []\n",
        "        grads_b = []\n",
        "        \"\"\"for w, g in reversed(list(zip(self.weights, self.biases, strict=True))):\n",
        "          grad_f = grad_g*g(1-g)\n",
        "          grads_w.append(np.outer(grad_f, gs[-1]))\n",
        "          grads_b.append(grad_f)\n",
        "          grad_g = w.T @ grad_f\"\"\"\n",
        "\n",
        "        for layer_idx in reversed(range(len(self.weights))):\n",
        "          w = self.weights[layer_idx]\n",
        "          g = gs[layer_idx +1]\n",
        "          g_prev = gs[layer_idx]\n",
        "\n",
        "          grad_f = grad_g*g*(1-g)  #(B,Nout)\n",
        "          grad_b = np.mean(grad_f, axis =0) #(Nout,)\n",
        "          grad_w =grad_f.T @ g_prev / B #(Nout,Nin)\n",
        "          grad_g = grad_f @ w #(B,Nin)\n",
        "\n",
        "          grads_w.append(grad_w)\n",
        "          grads_b.append(grad_b)\n",
        "\n",
        "        grads_w.reverse()\n",
        "        grads_b.reverse()\n",
        "\n",
        "        # Now grads_w should have shapes (N^1, N^0), ..., (N^last, N^{last-1}).\n",
        "        # Now grads_b should have shapes (N^1,) ..., (N^last,).\n",
        "        for grad_b, b in zip(grads_b, self.biases, strict=True):\n",
        "            assert grad_b.shape == b.shape, f'Shape mismatch: {grad_b.shape=} but {b.shape=}'\n",
        "        for grad_w, w in zip(grads_w, self.weights, strict=True):\n",
        "            assert grad_w.shape == w.shape, f'Shape mismatch: {grad_w.shape=} but {w.shape=}'\n",
        "\n",
        "        return grads_w, grads_b\n",
        "\n",
        "    def cost_derivative(self, g: FloatNDArray, y: FloatNDArray) -> FloatNDArray:\n",
        "        '''\n",
        "        Gradient of loss (MSE) over output activations.\n",
        "\n",
        "        Args:\n",
        "        - g: output activations, shape (B, N^last).\n",
        "        - y: target values (one-hot encoded labels), shape (B, N^last).\n",
        "\n",
        "        Returns gradients, shape (B, N^last).\n",
        "        '''\n",
        "        assert g.shape == y.shape, f'Shape mismatch: {g.shape=} but {y.shape=}'\n",
        "        B, N_last = g.shape\n",
        "        return (2 / (B * N_last)) * (g - y.astype(np.float64))\n",
        "\n",
        "    def evaluate(self, x_test_data: FloatNDArray, y_test_data: FloatNDArray) -> np.float64:\n",
        "        '''\n",
        "        Compute accuracy: the ratio of correct answers for test_data.\n",
        "\n",
        "        Args:\n",
        "        - x_test_data: shape (B, N^0).\n",
        "        - y_test_data: shape (B, N^last).\n",
        "        '''\n",
        "        predictions = np.argmax(self.feedforward(x_test_data), axis=1)\n",
        "        targets = np.argmax(y_test_data, axis=1)\n",
        "        return np.mean(predictions == targets)\n",
        "\n",
        "    def SGD(\n",
        "        self,\n",
        "        training_data: tuple[FloatNDArray, FloatNDArray],\n",
        "        test_data: tuple[FloatNDArray, FloatNDArray] | None = None,\n",
        "        epochs: int = 2,\n",
        "        mini_batch_size: int = 100,\n",
        "        learning_rate: float = 1.0\n",
        "    ) -> None:\n",
        "        x_train, y_train = training_data\n",
        "        for epoch in tqdm(range(epochs)):\n",
        "            for i in range(x_train.shape[0] // mini_batch_size):\n",
        "                i_begin = i * mini_batch_size\n",
        "                i_end = (i + 1) * mini_batch_size\n",
        "                self.learning_step(x_train[i_begin:i_end], y_train[i_begin:i_end], learning_rate)\n",
        "            if test_data:\n",
        "                x_test, y_test = test_data\n",
        "                accuracy = self.evaluate(x_test, y_test)\n",
        "                print(f'Epoch: {epoch}, Accuracy: {accuracy * 100:.2f} %')\n",
        "            else:\n",
        "                print(f'Epoch: {epoch}')"
      ]
    },
    {
      "cell_type": "code",
      "execution_count": null,
      "metadata": {
        "id": "xjyZVxp59pxG"
      },
      "outputs": [],
      "source": [
        "%%time\n",
        "# The vectorized version takes about ~1s per epoch.\n",
        "network = NetworkVectorized([784, 30, 10])\n",
        "network.SGD(\n",
        "    (x_train, y_train),\n",
        "    test_data=(x_test, y_test),\n",
        "    epochs=50,\n",
        "    mini_batch_size=100,\n",
        "    learning_rate=5.0\n",
        ")"
      ]
    },
    {
      "cell_type": "markdown",
      "metadata": {
        "id": "2nIZiS_Ze42M"
      },
      "source": [
        "# Exercise 3 (optional)\n",
        "\n",
        "The standard backpropagation method requires memorization of all outputs of all layers computed during the forward pass, for use in the backward pass, which can take much of precious GPU memory.\n",
        "Instead of doing that, one can checkpoint (memorize) only activations of a select few layers and then recompute the rest as they are needed (redoing the forward pass between checkpoints).  \n",
        "Your task is to complete the code below to implement backpropagation with checkpoints."
      ]
    },
    {
      "cell_type": "code",
      "execution_count": 24,
      "metadata": {
        "id": "sRdWr074ffey"
      },
      "outputs": [],
      "source": [
        "class NetworkWithCheckpoints(NetworkVectorized):\n",
        "    '''Multi-Layer Perceptron with gradient checkpointing.'''\n",
        "\n",
        "    def __init__(self, sizes: Sequence[int] = (784, 30, 10), checkpoints: Sequence[int] = (1,)):\n",
        "        '''\n",
        "        Args:\n",
        "        - sizes: sequence of layer widths [N^0, ... , N^last]\n",
        "          These are lengths of activation vectors, where:\n",
        "          - N^0 is input size: 784.\n",
        "          - N^last is the number of classes into which we can classify each input: 10.\n",
        "        - checkpoints: Indices of layers whose activations we want to checkpoint\n",
        "          (between 1 and last inclusive (last=len(sizes) - 1).\n",
        "        '''\n",
        "        super().__init__(sizes)\n",
        "        last_layer_id = len(sizes) - 1\n",
        "        # Always store the input and last activations.\n",
        "        self.checkpoints = sorted(set(checkpoints) | {0, last_layer_id})\n",
        "\n",
        "    def backprop_generator(\n",
        "        self, x: FloatNDArray, y: FloatNDArray\n",
        "    ) -> Iterator[tuple[FloatNDArray, FloatNDArray]]:\n",
        "        '''\n",
        "        Backpropagation for a mini-batch (vectorized).\n",
        "\n",
        "        Args:\n",
        "        - x: input, shape (B, N^0)\n",
        "        - y: target label (one-hot encoded), shape (B, N^last)\n",
        "\n",
        "        Yields (grad_w, grad_b) for each layer from i=last down to i=1, where:\n",
        "        - grads_w: shape (N^i, N^{i-1})).\n",
        "        - grads_b: shape (N^i)).\n",
        "        '''\n",
        "        B, N0 = x.shape\n",
        "        assert N0 == self.sizes[0]\n",
        "\n",
        "        # Go forward, remembering only some activations and no pre-activations.\n",
        "\n",
        "        # Values after activation function (including inputs to the first layer),\n",
        "        # shapes (B, N^0), (B, N^1), ..., (B, N^last);\n",
        "        # layers that are not checkpointed get None instead.\n",
        "        gs: list[FloatNDArray | None] = [x]\n",
        "\n",
        "        # TODO forward pass.\n",
        "        g = x\n",
        "        for i, (w, b) in enumerate(zip(self.weights, self.biases, strict=True), start=1):\n",
        "          f = g @ w.T + b\n",
        "          g = sigmoid(f)\n",
        "          if i in self.checkpoints:\n",
        "            gs.append(g)\n",
        "          else:\n",
        "            gs.append(None)\n",
        "\n",
        "        # Now go backward from the final cost applying backpropagation.\n",
        "        grad_g = self.cost_derivative(g, y)  # shape initially (B, N^last), then layer by layer.\n",
        "\n",
        "        # TODO backward pass.\n",
        "        # for each interval between consecutive checkpoints:\n",
        "            # Forward pass to restore intermediate activations.\n",
        "            # for all layers in interval:\n",
        "            # ...\n",
        "        #print(\"Checkpoints:\", self.checkpoints)\n",
        "\n",
        "        for start_i, end_i in zip(reversed(self.checkpoints[:-1]), reversed(self.checkpoints[1:])):\n",
        "            #print(f\"Processing segment: start_i={start_i}, end_i={end_i}\")\n",
        "            restored = [gs[start_i]]\n",
        "            g = gs[start_i]\n",
        "            for j in range(start_i+1,end_i+1):\n",
        "              w, b = self.weights[j-1], self.biases[j-1]\n",
        "              f = g @ w.T + b\n",
        "              g = sigmoid(f)\n",
        "              restored.append(g)\n",
        "\n",
        "            for j in range(end_i, start_i, -1):\n",
        "              g_prev = restored[j-start_i-1]\n",
        "              g_curr = restored[j-start_i]\n",
        "              w = self.weights[j-1]\n",
        "\n",
        "              grad_f = grad_g*g_curr*(1-g_curr)\n",
        "              grad_b = np.mean(grad_f, axis =0)\n",
        "              grad_w =grad_f.T @ g_prev / B\n",
        "\n",
        "              yield grad_w, grad_b\n",
        "\n",
        "              grad_g = grad_f @ w\n",
        "\n",
        "            # Now g and grad_g have shape (B, N^{end_i}).\n",
        "            #assert g.shape == grad_g.shape == (B, self.sizes[end_i])\n",
        "\n",
        "            # Backward pass between the checkpoints.\n",
        "            # for all layers in the interval, backwards:\n",
        "            #   # Compute grad_w, grad_b.\n",
        "            #   # Yield them as we go, instead of returning a list.\n",
        "            #   # https://docs.python.org/3/tutorial/classes.html#generators\n",
        "            #   yield (grad_w, grad_b)\n",
        "\n",
        "            # Now grad_g has shape (B, N^{start_i}).\n",
        "            assert grad_g.shape == (B, self.sizes[start_i])\n",
        "\n",
        "    @override\n",
        "    def learning_step(self, x_mini_batch: FloatNDArray, y_mini_batch: FloatNDArray, learning_rate: float) -> None:\n",
        "        '''\n",
        "        Update network parameters with a single mini-batch step of backpropagation and gradient descent.\n",
        "\n",
        "        Args:\n",
        "        - x_mini_batch: shape (B, N^0) where B is mini_batch_size.\n",
        "        - y_mini_batch: shape (B, N^last).\n",
        "        - learning_rate.\n",
        "        '''\n",
        "        indices = range(len(self.sizes) - 1, 0, -1)  # From `last` down to 1 inclusive.\n",
        "        for i, (grad_w, grad_b) in zip(indices, self.backprop_generator(x_mini_batch, y_mini_batch), strict=True):\n",
        "            self.weights[i - 1] = self.weights[i - 1] - learning_rate * grad_w\n",
        "            self.biases[i - 1] = self.biases[i - 1] - learning_rate * grad_b\n"
      ]
    },
    {
      "cell_type": "code",
      "execution_count": 27,
      "metadata": {
        "id": "W5iezw0nfgve",
        "collapsed": true,
        "colab": {
          "base_uri": "https://localhost:8080/"
        },
        "outputId": "4f667c8a-fffc-4fe3-dcf5-8c5654488d75"
      },
      "outputs": [
        {
          "output_type": "stream",
          "name": "stderr",
          "text": [
            "100%|██████████| 1/1 [00:01<00:00,  1.09s/it]\n"
          ]
        },
        {
          "output_type": "stream",
          "name": "stdout",
          "text": [
            "Epoch: 0, Accuracy: 10.27 %\n"
          ]
        },
        {
          "output_type": "stream",
          "name": "stderr",
          "text": [
            "  2%|▏         | 1/50 [00:00<00:39,  1.24it/s]"
          ]
        },
        {
          "output_type": "stream",
          "name": "stdout",
          "text": [
            "Epoch: 0, Accuracy: 10.27 %\n"
          ]
        },
        {
          "output_type": "stream",
          "name": "stderr",
          "text": [
            "\r  4%|▍         | 2/50 [00:01<00:38,  1.24it/s]"
          ]
        },
        {
          "output_type": "stream",
          "name": "stdout",
          "text": [
            "Epoch: 1, Accuracy: 11.35 %\n"
          ]
        },
        {
          "output_type": "stream",
          "name": "stderr",
          "text": [
            "\r  6%|▌         | 3/50 [00:02<00:38,  1.23it/s]"
          ]
        },
        {
          "output_type": "stream",
          "name": "stdout",
          "text": [
            "Epoch: 2, Accuracy: 11.35 %\n"
          ]
        },
        {
          "output_type": "stream",
          "name": "stderr",
          "text": [
            "\r  8%|▊         | 4/50 [00:03<00:38,  1.20it/s]"
          ]
        },
        {
          "output_type": "stream",
          "name": "stdout",
          "text": [
            "Epoch: 3, Accuracy: 11.35 %\n"
          ]
        },
        {
          "output_type": "stream",
          "name": "stderr",
          "text": [
            "\r 10%|█         | 5/50 [00:04<00:37,  1.19it/s]"
          ]
        },
        {
          "output_type": "stream",
          "name": "stdout",
          "text": [
            "Epoch: 4, Accuracy: 11.35 %\n"
          ]
        },
        {
          "output_type": "stream",
          "name": "stderr",
          "text": [
            "\r 12%|█▏        | 6/50 [00:04<00:36,  1.21it/s]"
          ]
        },
        {
          "output_type": "stream",
          "name": "stdout",
          "text": [
            "Epoch: 5, Accuracy: 11.35 %\n"
          ]
        },
        {
          "output_type": "stream",
          "name": "stderr",
          "text": [
            "\r 14%|█▍        | 7/50 [00:05<00:35,  1.20it/s]"
          ]
        },
        {
          "output_type": "stream",
          "name": "stdout",
          "text": [
            "Epoch: 6, Accuracy: 11.35 %\n"
          ]
        },
        {
          "output_type": "stream",
          "name": "stderr",
          "text": [
            "\r 16%|█▌        | 8/50 [00:08<00:59,  1.42s/it]"
          ]
        },
        {
          "output_type": "stream",
          "name": "stdout",
          "text": [
            "Epoch: 7, Accuracy: 11.35 %\n"
          ]
        },
        {
          "output_type": "stream",
          "name": "stderr",
          "text": [
            "\r 18%|█▊        | 9/50 [00:10<00:59,  1.45s/it]"
          ]
        },
        {
          "output_type": "stream",
          "name": "stdout",
          "text": [
            "Epoch: 8, Accuracy: 11.35 %\n"
          ]
        },
        {
          "output_type": "stream",
          "name": "stderr",
          "text": [
            "\r 20%|██        | 10/50 [00:10<00:50,  1.27s/it]"
          ]
        },
        {
          "output_type": "stream",
          "name": "stdout",
          "text": [
            "Epoch: 9, Accuracy: 11.41 %\n"
          ]
        },
        {
          "output_type": "stream",
          "name": "stderr",
          "text": [
            "\r 22%|██▏       | 11/50 [00:12<00:50,  1.29s/it]"
          ]
        },
        {
          "output_type": "stream",
          "name": "stdout",
          "text": [
            "Epoch: 10, Accuracy: 12.02 %\n"
          ]
        },
        {
          "output_type": "stream",
          "name": "stderr",
          "text": [
            "\r 24%|██▍       | 12/50 [00:13<00:43,  1.15s/it]"
          ]
        },
        {
          "output_type": "stream",
          "name": "stdout",
          "text": [
            "Epoch: 11, Accuracy: 14.09 %\n"
          ]
        },
        {
          "output_type": "stream",
          "name": "stderr",
          "text": [
            "\r 26%|██▌       | 13/50 [00:13<00:39,  1.06s/it]"
          ]
        },
        {
          "output_type": "stream",
          "name": "stdout",
          "text": [
            "Epoch: 12, Accuracy: 16.39 %\n"
          ]
        },
        {
          "output_type": "stream",
          "name": "stderr",
          "text": [
            "\r 28%|██▊       | 14/50 [00:14<00:35,  1.02it/s]"
          ]
        },
        {
          "output_type": "stream",
          "name": "stdout",
          "text": [
            "Epoch: 13, Accuracy: 18.01 %\n"
          ]
        },
        {
          "output_type": "stream",
          "name": "stderr",
          "text": [
            "\r 30%|███       | 15/50 [00:15<00:32,  1.07it/s]"
          ]
        },
        {
          "output_type": "stream",
          "name": "stdout",
          "text": [
            "Epoch: 14, Accuracy: 19.15 %\n"
          ]
        },
        {
          "output_type": "stream",
          "name": "stderr",
          "text": [
            "\r 32%|███▏      | 16/50 [00:16<00:30,  1.11it/s]"
          ]
        },
        {
          "output_type": "stream",
          "name": "stdout",
          "text": [
            "Epoch: 15, Accuracy: 19.92 %\n"
          ]
        },
        {
          "output_type": "stream",
          "name": "stderr",
          "text": [
            "\r 34%|███▍      | 17/50 [00:17<00:29,  1.13it/s]"
          ]
        },
        {
          "output_type": "stream",
          "name": "stdout",
          "text": [
            "Epoch: 16, Accuracy: 20.44 %\n"
          ]
        },
        {
          "output_type": "stream",
          "name": "stderr",
          "text": [
            "\r 36%|███▌      | 18/50 [00:18<00:27,  1.15it/s]"
          ]
        },
        {
          "output_type": "stream",
          "name": "stdout",
          "text": [
            "Epoch: 17, Accuracy: 20.71 %\n"
          ]
        },
        {
          "output_type": "stream",
          "name": "stderr",
          "text": [
            "\r 38%|███▊      | 19/50 [00:18<00:26,  1.17it/s]"
          ]
        },
        {
          "output_type": "stream",
          "name": "stdout",
          "text": [
            "Epoch: 18, Accuracy: 20.76 %\n"
          ]
        },
        {
          "output_type": "stream",
          "name": "stderr",
          "text": [
            "\r 40%|████      | 20/50 [00:19<00:28,  1.06it/s]"
          ]
        },
        {
          "output_type": "stream",
          "name": "stdout",
          "text": [
            "Epoch: 19, Accuracy: 20.83 %\n"
          ]
        },
        {
          "output_type": "stream",
          "name": "stderr",
          "text": [
            "\r 42%|████▏     | 21/50 [00:23<00:45,  1.59s/it]"
          ]
        },
        {
          "output_type": "stream",
          "name": "stdout",
          "text": [
            "Epoch: 20, Accuracy: 22.18 %\n"
          ]
        },
        {
          "output_type": "stream",
          "name": "stderr",
          "text": [
            "\r 44%|████▍     | 22/50 [00:23<00:38,  1.37s/it]"
          ]
        },
        {
          "output_type": "stream",
          "name": "stdout",
          "text": [
            "Epoch: 21, Accuracy: 25.70 %\n"
          ]
        },
        {
          "output_type": "stream",
          "name": "stderr",
          "text": [
            "\r 46%|████▌     | 23/50 [00:24<00:32,  1.22s/it]"
          ]
        },
        {
          "output_type": "stream",
          "name": "stdout",
          "text": [
            "Epoch: 22, Accuracy: 27.56 %\n"
          ]
        },
        {
          "output_type": "stream",
          "name": "stderr",
          "text": [
            "\r 48%|████▊     | 24/50 [00:25<00:28,  1.11s/it]"
          ]
        },
        {
          "output_type": "stream",
          "name": "stdout",
          "text": [
            "Epoch: 23, Accuracy: 27.30 %\n"
          ]
        },
        {
          "output_type": "stream",
          "name": "stderr",
          "text": [
            "\r 50%|█████     | 25/50 [00:26<00:25,  1.02s/it]"
          ]
        },
        {
          "output_type": "stream",
          "name": "stdout",
          "text": [
            "Epoch: 24, Accuracy: 26.57 %\n"
          ]
        },
        {
          "output_type": "stream",
          "name": "stderr",
          "text": [
            "\r 52%|█████▏    | 26/50 [00:27<00:23,  1.03it/s]"
          ]
        },
        {
          "output_type": "stream",
          "name": "stdout",
          "text": [
            "Epoch: 25, Accuracy: 25.83 %\n"
          ]
        },
        {
          "output_type": "stream",
          "name": "stderr",
          "text": [
            "\r 54%|█████▍    | 27/50 [00:28<00:21,  1.06it/s]"
          ]
        },
        {
          "output_type": "stream",
          "name": "stdout",
          "text": [
            "Epoch: 26, Accuracy: 25.57 %\n"
          ]
        },
        {
          "output_type": "stream",
          "name": "stderr",
          "text": [
            "\r 56%|█████▌    | 28/50 [00:29<00:20,  1.10it/s]"
          ]
        },
        {
          "output_type": "stream",
          "name": "stdout",
          "text": [
            "Epoch: 27, Accuracy: 26.38 %\n"
          ]
        },
        {
          "output_type": "stream",
          "name": "stderr",
          "text": [
            "\r 58%|█████▊    | 29/50 [00:29<00:18,  1.12it/s]"
          ]
        },
        {
          "output_type": "stream",
          "name": "stdout",
          "text": [
            "Epoch: 28, Accuracy: 28.21 %\n"
          ]
        },
        {
          "output_type": "stream",
          "name": "stderr",
          "text": [
            "\r 60%|██████    | 30/50 [00:30<00:17,  1.16it/s]"
          ]
        },
        {
          "output_type": "stream",
          "name": "stdout",
          "text": [
            "Epoch: 29, Accuracy: 30.01 %\n"
          ]
        },
        {
          "output_type": "stream",
          "name": "stderr",
          "text": [
            "\r 62%|██████▏   | 31/50 [00:31<00:16,  1.17it/s]"
          ]
        },
        {
          "output_type": "stream",
          "name": "stdout",
          "text": [
            "Epoch: 30, Accuracy: 31.62 %\n"
          ]
        },
        {
          "output_type": "stream",
          "name": "stderr",
          "text": [
            "\r 64%|██████▍   | 32/50 [00:32<00:15,  1.17it/s]"
          ]
        },
        {
          "output_type": "stream",
          "name": "stdout",
          "text": [
            "Epoch: 31, Accuracy: 36.05 %\n"
          ]
        },
        {
          "output_type": "stream",
          "name": "stderr",
          "text": [
            "\r 66%|██████▌   | 33/50 [00:34<00:20,  1.19s/it]"
          ]
        },
        {
          "output_type": "stream",
          "name": "stdout",
          "text": [
            "Epoch: 32, Accuracy: 40.40 %\n"
          ]
        },
        {
          "output_type": "stream",
          "name": "stderr",
          "text": [
            "\r 68%|██████▊   | 34/50 [00:36<00:23,  1.50s/it]"
          ]
        },
        {
          "output_type": "stream",
          "name": "stdout",
          "text": [
            "Epoch: 33, Accuracy: 43.46 %\n"
          ]
        },
        {
          "output_type": "stream",
          "name": "stderr",
          "text": [
            "\r 70%|███████   | 35/50 [00:37<00:19,  1.30s/it]"
          ]
        },
        {
          "output_type": "stream",
          "name": "stdout",
          "text": [
            "Epoch: 34, Accuracy: 46.67 %\n"
          ]
        },
        {
          "output_type": "stream",
          "name": "stderr",
          "text": [
            "\r 72%|███████▏  | 36/50 [00:38<00:16,  1.16s/it]"
          ]
        },
        {
          "output_type": "stream",
          "name": "stdout",
          "text": [
            "Epoch: 35, Accuracy: 49.84 %\n"
          ]
        },
        {
          "output_type": "stream",
          "name": "stderr",
          "text": [
            "\r 74%|███████▍  | 37/50 [00:39<00:13,  1.06s/it]"
          ]
        },
        {
          "output_type": "stream",
          "name": "stdout",
          "text": [
            "Epoch: 36, Accuracy: 52.96 %\n"
          ]
        },
        {
          "output_type": "stream",
          "name": "stderr",
          "text": [
            "\r 76%|███████▌  | 38/50 [00:39<00:11,  1.00it/s]"
          ]
        },
        {
          "output_type": "stream",
          "name": "stdout",
          "text": [
            "Epoch: 37, Accuracy: 55.28 %\n"
          ]
        },
        {
          "output_type": "stream",
          "name": "stderr",
          "text": [
            "\r 78%|███████▊  | 39/50 [00:40<00:10,  1.05it/s]"
          ]
        },
        {
          "output_type": "stream",
          "name": "stdout",
          "text": [
            "Epoch: 38, Accuracy: 57.36 %\n"
          ]
        },
        {
          "output_type": "stream",
          "name": "stderr",
          "text": [
            "\r 80%|████████  | 40/50 [00:41<00:09,  1.10it/s]"
          ]
        },
        {
          "output_type": "stream",
          "name": "stdout",
          "text": [
            "Epoch: 39, Accuracy: 58.99 %\n"
          ]
        },
        {
          "output_type": "stream",
          "name": "stderr",
          "text": [
            "\r 82%|████████▏ | 41/50 [00:42<00:07,  1.14it/s]"
          ]
        },
        {
          "output_type": "stream",
          "name": "stdout",
          "text": [
            "Epoch: 40, Accuracy: 60.23 %\n"
          ]
        },
        {
          "output_type": "stream",
          "name": "stderr",
          "text": [
            "\r 84%|████████▍ | 42/50 [00:43<00:06,  1.16it/s]"
          ]
        },
        {
          "output_type": "stream",
          "name": "stdout",
          "text": [
            "Epoch: 41, Accuracy: 61.45 %\n"
          ]
        },
        {
          "output_type": "stream",
          "name": "stderr",
          "text": [
            "\r 86%|████████▌ | 43/50 [00:44<00:05,  1.17it/s]"
          ]
        },
        {
          "output_type": "stream",
          "name": "stdout",
          "text": [
            "Epoch: 42, Accuracy: 62.76 %\n"
          ]
        },
        {
          "output_type": "stream",
          "name": "stderr",
          "text": [
            "\r 88%|████████▊ | 44/50 [00:44<00:05,  1.18it/s]"
          ]
        },
        {
          "output_type": "stream",
          "name": "stdout",
          "text": [
            "Epoch: 43, Accuracy: 64.17 %\n"
          ]
        },
        {
          "output_type": "stream",
          "name": "stderr",
          "text": [
            "\r 90%|█████████ | 45/50 [00:45<00:04,  1.18it/s]"
          ]
        },
        {
          "output_type": "stream",
          "name": "stdout",
          "text": [
            "Epoch: 44, Accuracy: 65.63 %\n"
          ]
        },
        {
          "output_type": "stream",
          "name": "stderr",
          "text": [
            "\r 92%|█████████▏| 46/50 [00:46<00:03,  1.05it/s]"
          ]
        },
        {
          "output_type": "stream",
          "name": "stdout",
          "text": [
            "Epoch: 45, Accuracy: 67.24 %\n"
          ]
        },
        {
          "output_type": "stream",
          "name": "stderr",
          "text": [
            "\r 94%|█████████▍| 47/50 [00:49<00:04,  1.56s/it]"
          ]
        },
        {
          "output_type": "stream",
          "name": "stdout",
          "text": [
            "Epoch: 46, Accuracy: 68.77 %\n"
          ]
        },
        {
          "output_type": "stream",
          "name": "stderr",
          "text": [
            "\r 96%|█████████▌| 48/50 [00:50<00:02,  1.34s/it]"
          ]
        },
        {
          "output_type": "stream",
          "name": "stdout",
          "text": [
            "Epoch: 47, Accuracy: 70.55 %\n"
          ]
        },
        {
          "output_type": "stream",
          "name": "stderr",
          "text": [
            "\r 98%|█████████▊| 49/50 [00:51<00:01,  1.19s/it]"
          ]
        },
        {
          "output_type": "stream",
          "name": "stdout",
          "text": [
            "Epoch: 48, Accuracy: 72.21 %\n"
          ]
        },
        {
          "output_type": "stream",
          "name": "stderr",
          "text": [
            "100%|██████████| 50/50 [00:52<00:00,  1.05s/it]"
          ]
        },
        {
          "output_type": "stream",
          "name": "stdout",
          "text": [
            "Epoch: 49, Accuracy: 73.51 %\n",
            "CPU times: user 1min 32s, sys: 202 ms, total: 1min 32s\n",
            "Wall time: 53.5 s\n"
          ]
        },
        {
          "output_type": "stream",
          "name": "stderr",
          "text": [
            "\n"
          ]
        }
      ],
      "source": [
        "%%time\n",
        "# Compare on the same seed, results should be exactly the same.\n",
        "\n",
        "np.random.seed(42)\n",
        "network = NetworkWithCheckpoints([784, 20, 15, 13, 10], checkpoints=[2])\n",
        "network.SGD(\n",
        "    (x_train, y_train),\n",
        "    test_data=(x_test, y_test),\n",
        "    epochs=1,\n",
        "    mini_batch_size=100,\n",
        "    learning_rate=50.\n",
        ")\n",
        "\n",
        "np.random.seed(42)\n",
        "network = NetworkVectorized([784, 20, 15, 13, 10])\n",
        "network.SGD(\n",
        "    (x_train, y_train),\n",
        "    test_data=(x_test, y_test),\n",
        "    epochs=50,\n",
        "    mini_batch_size=100,\n",
        "    learning_rate=50.\n",
        ")"
      ]
    },
    {
      "cell_type": "markdown",
      "source": [
        " Memory usage can be checked by installing `memory_profiler` and using `%%memit` (instead of `%%time`),\n",
        " but it will be very hard to see a difference from checkpointing for an MLP."
      ],
      "metadata": {
        "id": "p2-bXJfTJOhD"
      }
    },
    {
      "cell_type": "markdown",
      "metadata": {
        "id": "O9w3OzXKe42N"
      },
      "source": [
        "# JAX Playground (Optional)\n",
        "JAX is a framework that allows the creation of neural networks with numpy-like syntax.  \n",
        "In this course, we will use Pytorch instead of JAX, but for this lab scenario, JAX can help us test our gradient computation implementation.  \n",
        "Let's give it a try  "
      ]
    },
    {
      "cell_type": "code",
      "execution_count": 28,
      "metadata": {
        "id": "pUd116BMe42O",
        "outputId": "370d66de-20e2-40a8-a9ff-57ee078dcc35",
        "colab": {
          "base_uri": "https://localhost:8080/"
        }
      },
      "outputs": [
        {
          "output_type": "stream",
          "name": "stdout",
          "text": [
            "Requirement already satisfied: jax in /usr/local/lib/python3.12/dist-packages (0.5.3)\n",
            "Requirement already satisfied: jaxlib<=0.5.3,>=0.5.3 in /usr/local/lib/python3.12/dist-packages (from jax) (0.5.3)\n",
            "Requirement already satisfied: ml_dtypes>=0.4.0 in /usr/local/lib/python3.12/dist-packages (from jax) (0.5.3)\n",
            "Requirement already satisfied: numpy>=1.25 in /usr/local/lib/python3.12/dist-packages (from jax) (2.0.2)\n",
            "Requirement already satisfied: opt_einsum in /usr/local/lib/python3.12/dist-packages (from jax) (3.4.0)\n",
            "Requirement already satisfied: scipy>=1.11.1 in /usr/local/lib/python3.12/dist-packages (from jax) (1.16.2)\n"
          ]
        }
      ],
      "source": [
        "!pip3 install jax"
      ]
    },
    {
      "cell_type": "code",
      "execution_count": 32,
      "metadata": {
        "id": "YaZVxk4ze42O",
        "outputId": "2eb0cea2-028e-4fb6-faf7-2592d52c75b0",
        "colab": {
          "base_uri": "https://localhost:8080/"
        }
      },
      "outputs": [
        {
          "output_type": "stream",
          "name": "stdout",
          "text": [
            "diff dx = 4.619360183255594e-08\n",
            "diff dw = 9.451593996345764e-08\n",
            "diff db = 0.09255658835172653\n",
            "dtype=float32 (eps=1.1920928955078125e-07)\n"
          ]
        }
      ],
      "source": [
        "import jax\n",
        "import jax.numpy as jnp\n",
        "from textwrap import dedent\n",
        "\n",
        "\n",
        "def jax_sigmoid(z: jax.Array) -> jax.Array:\n",
        "    return 1.0 / (1.0 + jnp.exp(-z))\n",
        "\n",
        "\n",
        "def jax_sigmoid_prime(z: jax.Array) -> jax.Array:\n",
        "    return sigmoid(z) * (1 - sigmoid(z))\n",
        "\n",
        "\n",
        "# Define a jax function.\n",
        "# We emphasize that this is a function, not a jax procedure,\n",
        "# and in fact there are more requirements for writing good jax code,\n",
        "# but this is just an example.\n",
        "# (see https://jax.readthedocs.io/en/latest/tutorials.html)\n",
        "def jax_forward(x: jax.Array, w: jax.Array, b: jax.Array) -> jax.Array:\n",
        "    # f = TODO\n",
        "    f = x @ w.T + b\n",
        "    g = jax_sigmoid(f)\n",
        "    loss = g.sum()  # Just a dummy loss for simplicity.\n",
        "    return loss, g\n",
        "\n",
        "\n",
        "# This will calculate gradient for first, second, and third argument.\n",
        "# has_aux tells that in addition to loss our function returns something more.\n",
        "auto_backward = jax.value_and_grad(fun=jax_forward, argnums=[0, 1, 2], has_aux=True)\n",
        "\n",
        "\n",
        "def manual_backward(x: jax.Array, w: jax.Array, b: jax.Array) -> jax.Array:\n",
        "    # f = TODO\n",
        "    f = x @ w.T + b\n",
        "    g = jax_sigmoid(f)\n",
        "\n",
        "    grad_g = jnp.ones_like(f)  # Grad of the dummy loss over activations g.\n",
        "    # grad_f = TODO\n",
        "    grad_f =grad_g*g*(1-g)\n",
        "    # grad_b = TODO\n",
        "    grad_b = jnp.mean(grad_f, axis=0)\n",
        "    #grad_b  = grad_f.sum(axis=0)\n",
        "    # grad_w = TODO\n",
        "    grad_w = grad_f.T @ x\n",
        "    # grad_x = TODO\n",
        "    grad_x = grad_f @ w\n",
        "    return grad_x, grad_w, grad_b\n",
        "\n",
        "\n",
        "def example():\n",
        "    B, N0, N1 = 3, 5, 7\n",
        "\n",
        "    key = jax.random.key(42)\n",
        "    key, subkey = jax.random.split(key)\n",
        "    w = jax.random.normal(subkey, (N1, N0))\n",
        "    key, subkey = jax.random.split(key)\n",
        "    b = jax.random.normal(subkey, (N1,))\n",
        "    x = jnp.arange(N0, dtype=w.dtype).reshape(1, N0) * jnp.ones((B, N0))\n",
        "\n",
        "    (loss, res), (jax_dx, jax_dw, jax_db) = auto_backward(x, w, b)\n",
        "    dx, dw, db = manual_backward(x, w, b)\n",
        "\n",
        "    print(dedent(f'''\n",
        "        diff dx = {jnp.mean(jnp.abs(jax_dx - dx))}\n",
        "        diff dw = {jnp.mean(jnp.abs(jax_dw - dw))}\n",
        "        diff db = {jnp.mean(jnp.abs(jax_db - db))}\n",
        "        dtype={dx.dtype} (eps={np.finfo(dx.dtype).eps})\n",
        "    ''').strip())\n",
        "\n",
        "\n",
        "example()"
      ]
    }
  ],
  "metadata": {
    "colab": {
      "provenance": [],
      "include_colab_link": true
    },
    "kernelspec": {
      "display_name": ".venv",
      "language": "python",
      "name": "python3"
    },
    "language_info": {
      "codemirror_mode": {
        "name": "ipython",
        "version": 3
      },
      "file_extension": ".py",
      "mimetype": "text/x-python",
      "name": "python",
      "nbconvert_exporter": "python",
      "pygments_lexer": "ipython3",
      "version": "3.12.3"
    }
  },
  "nbformat": 4,
  "nbformat_minor": 0
}